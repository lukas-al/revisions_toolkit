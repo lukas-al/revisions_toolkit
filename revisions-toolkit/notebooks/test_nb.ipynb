{
 "cells": [
  {
   "cell_type": "markdown",
   "metadata": {},
   "source": [
    "# Kedro Stuff"
   ]
  },
  {
   "cell_type": "code",
   "execution_count": 1,
   "metadata": {},
   "outputs": [],
   "source": [
    "# context\n",
    "# catalog.list()\n",
    "# pipelines.items()\n",
    "# session\n"
   ]
  },
  {
   "cell_type": "markdown",
   "metadata": {},
   "source": [
    "# Regular stuff"
   ]
  },
  {
   "cell_type": "code",
   "execution_count": 2,
   "metadata": {},
   "outputs": [
    {
     "data": {
      "text/html": [
       "<pre style=\"white-space:pre;overflow-x:auto;line-height:normal;font-family:Menlo,'DejaVu Sans Mono',consolas,'Courier New',monospace\"><span style=\"color: #7fbfbf; text-decoration-color: #7fbfbf\">                    </span><span style=\"color: #000080; text-decoration-color: #000080\">INFO    </span> Loading data from <span style=\"color: #ff8700; text-decoration-color: #ff8700\">headline_gdp_vintages</span> <span style=\"font-weight: bold\">(</span>HeadlineGDPVintage<span style=\"font-weight: bold\">)</span><span style=\"color: #808000; text-decoration-color: #808000\">...</span>    <a href=\"file:///Users/lukasalemu/Downloads/ls/envs/revisions_toolkit/lib/python3.10/site-packages/kedro/io/data_catalog.py\" target=\"_blank\"><span style=\"color: #7f7f7f; text-decoration-color: #7f7f7f\">data_catalog.py</span></a><span style=\"color: #7f7f7f; text-decoration-color: #7f7f7f\">:</span><a href=\"file:///Users/lukasalemu/Downloads/ls/envs/revisions_toolkit/lib/python3.10/site-packages/kedro/io/data_catalog.py#483\" target=\"_blank\"><span style=\"color: #7f7f7f; text-decoration-color: #7f7f7f\">483</span></a>\n",
       "</pre>\n"
      ],
      "text/plain": [
       "\u001b[2;36m                   \u001b[0m\u001b[2;36m \u001b[0m\u001b[34mINFO    \u001b[0m Loading data from \u001b[38;5;208mheadline_gdp_vintages\u001b[0m \u001b[1m(\u001b[0mHeadlineGDPVintage\u001b[1m)\u001b[0m\u001b[33m...\u001b[0m    \u001b]8;id=996818;file:///Users/lukasalemu/Downloads/ls/envs/revisions_toolkit/lib/python3.10/site-packages/kedro/io/data_catalog.py\u001b\\\u001b[2mdata_catalog.py\u001b[0m\u001b]8;;\u001b\\\u001b[2m:\u001b[0m\u001b]8;id=424142;file:///Users/lukasalemu/Downloads/ls/envs/revisions_toolkit/lib/python3.10/site-packages/kedro/io/data_catalog.py#483\u001b\\\u001b[2m483\u001b[0m\u001b]8;;\u001b\\\n"
      ]
     },
     "metadata": {},
     "output_type": "display_data"
    },
    {
     "data": {
      "text/html": [
       "<pre style=\"white-space:pre;overflow-x:auto;line-height:normal;font-family:Menlo,'DejaVu Sans Mono',consolas,'Courier New',monospace\"><span style=\"color: #7fbfbf; text-decoration-color: #7fbfbf\">                    </span><span style=\"color: #000080; text-decoration-color: #000080\">INFO    </span> Downloading the latest release from the ONS website<span style=\"color: #808000; text-decoration-color: #808000\">...</span>              <span style=\"color: #7f7f7f; text-decoration-color: #7f7f7f\">gdp_datasets.py:39</span>\n",
       "</pre>\n"
      ],
      "text/plain": [
       "\u001b[2;36m                   \u001b[0m\u001b[2;36m \u001b[0m\u001b[34mINFO    \u001b[0m Downloading the latest release from the ONS website\u001b[33m...\u001b[0m              \u001b[2mgdp_datasets.py\u001b[0m\u001b[2m:\u001b[0m\u001b[2m39\u001b[0m\n"
      ]
     },
     "metadata": {},
     "output_type": "display_data"
    },
    {
     "data": {
      "text/html": [
       "<pre style=\"white-space:pre;overflow-x:auto;line-height:normal;font-family:Menlo,'DejaVu Sans Mono',consolas,'Courier New',monospace\"><span style=\"color: #7fbfbf; text-decoration-color: #7fbfbf\">                    </span><span style=\"color: #000080; text-decoration-color: #000080\">INFO    </span> Found the latest release URL:                                       <span style=\"color: #7f7f7f; text-decoration-color: #7f7f7f\">gdp_datasets.py:51</span>\n",
       "<span style=\"color: #7fbfbf; text-decoration-color: #7fbfbf\">                    </span>         <span style=\"color: #0000ff; text-decoration-color: #0000ff; text-decoration: underline\">https://www.ons.gov.uk/file?uri=/economy/grossdomesticproductgdp/da</span> <span style=\"color: #7f7f7f; text-decoration-color: #7f7f7f\">                  </span>\n",
       "<span style=\"color: #7fbfbf; text-decoration-color: #7fbfbf\">                    </span>         <span style=\"color: #0000ff; text-decoration-color: #0000ff; text-decoration: underline\">tasets/revisionstrianglesforukgdpabmi/quarter3julytosept2023quarter</span> <span style=\"color: #7f7f7f; text-decoration-color: #7f7f7f\">                  </span>\n",
       "<span style=\"color: #7fbfbf; text-decoration-color: #7fbfbf\">                    </span>         <span style=\"color: #0000ff; text-decoration-color: #0000ff; text-decoration: underline\">lynationalaccounts/abmi.zip</span>                                         <span style=\"color: #7f7f7f; text-decoration-color: #7f7f7f\">                  </span>\n",
       "</pre>\n"
      ],
      "text/plain": [
       "\u001b[2;36m                   \u001b[0m\u001b[2;36m \u001b[0m\u001b[34mINFO    \u001b[0m Found the latest release URL:                                       \u001b[2mgdp_datasets.py\u001b[0m\u001b[2m:\u001b[0m\u001b[2m51\u001b[0m\n",
       "\u001b[2;36m                    \u001b[0m         \u001b[4;94mhttps://www.ons.gov.uk/file?\u001b[0m\u001b[4;94muri\u001b[0m\u001b[4;94m=/economy/grossdomesticproductgdp/da\u001b[0m \u001b[2m                  \u001b[0m\n",
       "\u001b[2;36m                    \u001b[0m         \u001b[4;94mtasets/revisionstrianglesforukgdpabmi/quarter3julytosept2023quarter\u001b[0m \u001b[2m                  \u001b[0m\n",
       "\u001b[2;36m                    \u001b[0m         \u001b[4;94mlynationalaccounts/abmi.zip\u001b[0m                                         \u001b[2m                  \u001b[0m\n"
      ]
     },
     "metadata": {},
     "output_type": "display_data"
    }
   ],
   "source": [
    "test_df = context.catalog.load(\"headline_gdp_vintages\")"
   ]
  },
  {
   "cell_type": "code",
   "execution_count": 3,
   "metadata": {},
   "outputs": [
    {
     "data": {
      "text/html": [
       "<pre style=\"white-space:pre;overflow-x:auto;line-height:normal;font-family:Menlo,'DejaVu Sans Mono',consolas,'Courier New',monospace\"></pre>\n"
      ],
      "text/plain": []
     },
     "metadata": {},
     "output_type": "display_data"
    },
    {
     "data": {
      "text/plain": [
       "\n",
       "\u001b[1m{\u001b[0m\n",
       "    \u001b[32m'ABMI - Annual GDP at Market Prices.xlsx'\u001b[0m:    Revision Triangles for Annual GDP at Market Prices \u001b[1m(\u001b[0mABMI\u001b[1m)\u001b[0m\n",
       "\u001b[1;36m0\u001b[0m   These revision triangles show growth and revis\u001b[33m...\u001b[0m       \n",
       "\u001b[1;36m1\u001b[0m              These figures are seasonally adjusted.       \n",
       "\u001b[1;36m2\u001b[0m                                   Publication dates       \n",
       "\u001b[1;36m3\u001b[0m   The data tables in this spreadsheet were origi\u001b[33m...\u001b[0m       \n",
       "\u001b[1;36m4\u001b[0m   The next publication will be published at \u001b[1;92m07:0\u001b[0m\u001b[33m...\u001b[0m       \n",
       "\u001b[1;36m5\u001b[0m                           Units, notes and no data        \n",
       "\u001b[1;36m6\u001b[0m   Some cells have no data, when this is the case\u001b[33m...\u001b[0m       \n",
       "\u001b[1;36m7\u001b[0m   Revisions to data provide an indication of the\u001b[33m...\u001b[0m       \n",
       "\u001b[1;36m8\u001b[0m   In July \u001b[1;36m2018\u001b[0m, a new GDP publication model was \u001b[33m...\u001b[0m       \n",
       "\u001b[1;36m9\u001b[0m                                     Contact details       \n",
       "\u001b[1;36m10\u001b[0m                                      Niamh McAuley       \n",
       "\u001b[1;36m11\u001b[0m                            Telephone: \u001b[1;36m01633\u001b[0m \u001b[1;36m455284\u001b[0m       \n",
       "\u001b[1;36m12\u001b[0m                                     gdp@ons.gov.uk       ,\n",
       "    \u001b[32m'ABMI - Quarterly GDP at Market Prices.xlsx'\u001b[0m:    Revision Triangles for Quarterly GDP at Market Prices \u001b[1m(\u001b[0mABMI\u001b[1m)\u001b[0m\n",
       "\u001b[1;36m0\u001b[0m   These revision triangles show growth and revis\u001b[33m...\u001b[0m          \n",
       "\u001b[1;36m1\u001b[0m              These figures are seasonally adjusted.          \n",
       "\u001b[1;36m2\u001b[0m                                   Publication dates          \n",
       "\u001b[1;36m3\u001b[0m   The data tables in this spreadsheet were origi\u001b[33m...\u001b[0m          \n",
       "\u001b[1;36m4\u001b[0m   The next publication will be published at \u001b[1;92m07:0\u001b[0m\u001b[33m...\u001b[0m          \n",
       "\u001b[1;36m5\u001b[0m                           Units, notes and no data           \n",
       "\u001b[1;36m6\u001b[0m   Some cells have no data, when this is the case\u001b[33m...\u001b[0m          \n",
       "\u001b[1;36m7\u001b[0m   Revisions to data provide an indication of the\u001b[33m...\u001b[0m          \n",
       "\u001b[1;36m8\u001b[0m   In July \u001b[1;36m2018\u001b[0m, a new GDP publication model was \u001b[33m...\u001b[0m          \n",
       "\u001b[1;36m9\u001b[0m                                     Contact details          \n",
       "\u001b[1;36m10\u001b[0m                                      Niamh McAuley          \n",
       "\u001b[1;36m11\u001b[0m                            Telephone: \u001b[1;36m01633\u001b[0m \u001b[1;36m455284\u001b[0m          \n",
       "\u001b[1;36m12\u001b[0m                                     gdp@ons.gov.uk          \n",
       "\u001b[1m}\u001b[0m"
      ]
     },
     "execution_count": 3,
     "metadata": {},
     "output_type": "execute_result"
    }
   ],
   "source": [
    "test_df"
   ]
  }
 ],
 "metadata": {
  "kernelspec": {
   "display_name": "Kedro (revisions_toolkit)",
   "language": "python",
   "name": "kedro_revisions_toolkit"
  },
  "language_info": {
   "codemirror_mode": {
    "name": "ipython",
    "version": 3
   },
   "file_extension": ".py",
   "mimetype": "text/x-python",
   "name": "python",
   "nbconvert_exporter": "python",
   "pygments_lexer": "ipython3",
   "version": "3.10.13"
  }
 },
 "nbformat": 4,
 "nbformat_minor": 2
}
